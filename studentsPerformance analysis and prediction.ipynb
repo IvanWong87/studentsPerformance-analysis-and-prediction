{
 "cells": [
  {
   "cell_type": "code",
   "execution_count": null,
   "metadata": {},
   "outputs": [],
   "source": [
    "#set up modules\n",
    "import pandas as pd\n",
    "import numpy as np\n",
    "import matplotlib.pyplot as plt\n",
    "import seaborn as sns\n",
    "from scipy import stats\n",
    "\n",
    "# read the csv file\n",
    "df=pd.read_csv(r\"C:\\Users\\ivan3\\Documents\\Visual Studio 2017\\Projects\\python\\basic\\practice project\\student_performance\\StudentsPerformance.csv\")\n",
    "print(df.head())\n",
    "print(f\"Shape of DataFrame: total rows={df.shape[0]} and total columns={df.shape[1]}.\")"
   ]
  },
  {
   "cell_type": "code",
   "execution_count": null,
   "metadata": {},
   "outputs": [],
   "source": [
    "#The distribution of [\"math score\", \"reading score\", \"writing score\"]\n",
    "plt.rcParams['figure.facecolor'] = \"#e6ecff\"\n",
    "plt.rcParams['axes.facecolor'] = \"#e6ecff\"\n",
    "df[\"average score\"]=df[[\"math score\", \"reading score\", \"writing score\"]].mean(axis=1)\n",
    "fig,axes = plt.subplots(2,2,figsize=(10,8))\n",
    "sns.kdeplot(data=df[\"math score\"], color=\"lightcoral\",shade=True,ax=axes[0,0]).set(title=\"math score\",xlabel=None)\n",
    "sns.kdeplot(data=df[\"reading score\"], color=\"lightgreen\",shade=True, ax=axes[0,1]).set(title=\"reading score\",xlabel=None)\n",
    "sns.kdeplot(data=df[\"writing score\"], color=\"orange\",shade=True, ax=axes[1,0]).set(title=\"writing score\",xlabel=None)\n",
    "sns.kdeplot(data=df[[\"math score\",\"reading score\",\"writing score\",\"average score\"]], ax=axes[1,1])\n",
    "plt.legend(labels=(\"math score\",\"reading score\",\"writing score\",\"average score\"),loc='upper left')\n",
    "plt.show()"
   ]
  },
  {
   "cell_type": "markdown",
   "metadata": {},
   "source": [
    "Observation: All distribution follow an approximately normal distribution."
   ]
  },
  {
   "cell_type": "code",
   "execution_count": null,
   "metadata": {},
   "outputs": [],
   "source": [
    "#The relationship between different score\n",
    "#[\"math score\",\"reading score\",\"writing score\",\"average score\"]\n",
    "fig,axes = plt.subplots(3,1,figsize=(10,10))\n",
    "sns.regplot(x=\"math score\", y=\"reading score\", data=df,color=\"g\",ax=axes[0])\n",
    "sns.regplot(x=\"math score\", y=\"writing score\", data=df,color=\"b\",ax=axes[1])\n",
    "sns.regplot(x=\"writing score\", y=\"reading score\", data=df,color=\"purple\",ax=axes[2])\n",
    "plt.show()"
   ]
  },
  {
   "cell_type": "markdown",
   "metadata": {},
   "source": [
    "Observation: All scores have a positive correlation with each other."
   ]
  },
  {
   "cell_type": "code",
   "execution_count": null,
   "metadata": {},
   "outputs": [],
   "source": [
    "#The relationship between gender and score\n",
    "plt.figure(figsize=(15,8))\n",
    "for i,score in enumerate([\"math score\", \"writing score\", \"reading score\", \"average score\"]):\n",
    "    plt.subplot(1,4,i+1)\n",
    "    ax=sns.barplot(x=\"gender\", y=score, data=df, palette=\"seismic\", ci=None)\n",
    "    plt.title(f'{score}')\n",
    "    ax.bar_label(ax.containers[0], fmt='%.2f')\n",
    "plt.show()\n",
    "\n",
    "\n",
    "fig,axes = plt.subplots(2,2,figsize=(10,8))\n",
    "ax=axes.flatten()\n",
    "for i,score in enumerate([\"math score\",\"reading score\",\"writing score\",\"average score\"]):\n",
    "    sns.boxplot(x=\"gender\", y=score, data=df, ax=ax[i])\n"
   ]
  },
  {
   "cell_type": "markdown",
   "metadata": {},
   "source": [
    "Observation: Boys perform better than girls in math but perform worse than girls in both reading and writing test. Overall, Girls get a slightly higher average score."
   ]
  },
  {
   "cell_type": "code",
   "execution_count": null,
   "metadata": {},
   "outputs": [],
   "source": [
    "#The relationship between race/ethnicity and score\n",
    "race=df.groupby(\"race/ethnicity\")['math score', 'reading score', 'writing score',\"average score\"].mean()\n",
    "\n",
    "sns.set_palette(\"coolwarm\")\n",
    "ax=race.plot.barh()\n",
    "plt.legend(bbox_to_anchor=(1.05, 1), loc=2)"
   ]
  },
  {
   "cell_type": "markdown",
   "metadata": {},
   "source": [
    "Observation: On average, group E get the best result and group A get the worst result at all three tests."
   ]
  },
  {
   "cell_type": "code",
   "execution_count": null,
   "metadata": {},
   "outputs": [],
   "source": [
    "#The relationship between parental level of education and score\n",
    "education=df.groupby(\"parental level of education\")['math score', 'reading score', 'writing score',\"average score\"].mean()\n",
    "\n",
    "sns.set_palette(\"coolwarm\")\n",
    "ax=education.plot.barh()\n",
    "plt.legend(bbox_to_anchor=(1.05, 1), loc=2)"
   ]
  },
  {
   "cell_type": "markdown",
   "metadata": {},
   "source": [
    "Observation: When students' parent have a bachelor's degree or master's degree, the students seem to have a better average results."
   ]
  },
  {
   "cell_type": "code",
   "execution_count": null,
   "metadata": {},
   "outputs": [],
   "source": [
    "#The relationship between having lunch and score\n",
    "lunch=df.groupby(\"lunch\")['math score', 'reading score', 'writing score',\"average score\"].mean()\n",
    "print(lunch)\n",
    "ax=sns.set_palette(\"coolwarm\")\n",
    "ax=lunch.plot.barh()\n",
    "plt.legend(bbox_to_anchor=(1.05, 1), loc=2)\n",
    "\n",
    "fig,axes = plt.subplots(2,2,figsize=(10,8))\n",
    "ax=axes.flatten()\n",
    "for i,score in enumerate([\"math score\",\"reading score\",\"writing score\",\"average score\"]):\n",
    "    sns.boxplot(x=\"lunch\", y=score, data=df, ax=ax[i])"
   ]
  },
  {
   "cell_type": "markdown",
   "metadata": {},
   "source": [
    "Observation: It is obvious that keeping a balanced diet will improve your academic results."
   ]
  },
  {
   "cell_type": "code",
   "execution_count": null,
   "metadata": {},
   "outputs": [],
   "source": [
    "#The relationship between test preparation course and score\n",
    "plt.figure(figsize=(15,8))\n",
    "for i,score in enumerate([\"math score\", \"writing score\", \"reading score\", \"average score\"]):\n",
    "    plt.subplot(1,4,i+1)\n",
    "    ax=sns.barplot(x=\"test preparation course\", y=score, data=df, palette=\"seismic\", ci=None)\n",
    "    plt.title(f'{score}')\n",
    "    ax.bar_label(ax.containers[0], fmt='%.2f')\n",
    "plt.show()\n",
    "\n",
    "fig,ax = plt.subplots(2,2,figsize=(10,8))\n",
    "ax=ax.flatten()\n",
    "sns.set_palette(\"vlag\")\n",
    "for i, score in enumerate(['math score', 'reading score', 'writing score',\"average score\"]):\n",
    "    sns.boxplot(x=\"test preparation course\", y=score, data=df, ax=ax[i])\n",
    "plt.show()\n",
    "\n"
   ]
  },
  {
   "cell_type": "markdown",
   "metadata": {},
   "source": [
    "Observation: On average, students who completed the test preparation course performed better on the test.\n"
   ]
  },
  {
   "cell_type": "markdown",
   "metadata": {},
   "source": []
  },
  {
   "cell_type": "code",
   "execution_count": null,
   "metadata": {},
   "outputs": [],
   "source": [
    "#finding outlier\n",
    "fig,ax=plt.subplots(2,2,figsize=(10,8))\n",
    "ax=ax.flatten()\n",
    "for i,score in enumerate(['math score', 'reading score', 'writing score',\"average score\"]):\n",
    "    sns.boxplot( y=score,data=df,ax=ax[i])\n",
    "plt.show()"
   ]
  },
  {
   "cell_type": "code",
   "execution_count": null,
   "metadata": {},
   "outputs": [],
   "source": [
    "#remove outlier\n",
    "def outlier(df, column):\n",
    "    global lower, upper\n",
    "    q1,q3 = np.quantile(df[column], 0.25), np.quantile(df[column], 0.75)\n",
    "    iqr=q3-q1\n",
    "    cut_off=iqr*1.5\n",
    "    lower,upper =q1-cut_off,q3+cut_off\n",
    "    print(\"iqr :\", iqr,\"\\n\",\"lower fence :\", lower ,\"\\n\", \"upper fence :\", upper)\n",
    "\n",
    "    df_lower=df[df[column]<lower]\n",
    "    df_upper=df[df[column]>upper]\n",
    "    print (df_lower.shape,df_upper.shape)\n",
    "\n",
    "    df=df[ (df[column]>lower) & (df[column]<upper)]\n",
    "    return df\n",
    "\n",
    "for score in ['math score', 'reading score', 'writing score',\"average score\"]:\n",
    "    df=outlier(df, score)\n",
    "\n",
    "print(df.shape)\n",
    "\n"
   ]
  },
  {
   "cell_type": "markdown",
   "metadata": {},
   "source": [
    "ObservationL: The row of DataFrame decreases from 1054 to 1037, It means we remove 17 outliers."
   ]
  },
  {
   "cell_type": "code",
   "execution_count": null,
   "metadata": {},
   "outputs": [],
   "source": [
    "#finding all columns which contain categorical data\n",
    "o=(df.dtypes==\"object\")\n",
    "object_col=list(o[o].index)\n",
    "print(\"object_columns :\", object_col)"
   ]
  },
  {
   "cell_type": "code",
   "execution_count": null,
   "metadata": {},
   "outputs": [],
   "source": [
    "#convert categorical variable to numeric variable\n",
    "#using label encoding\n",
    "from sklearn.preprocessing import LabelEncoder\n",
    "label_encoder=LabelEncoder()\n",
    "\n",
    "#create a new DataFrame \n",
    "df_new=df.copy()\n",
    "for columns in object_col:\n",
    "    df_new[columns]=label_encoder.fit_transform(df[columns])\n"
   ]
  },
  {
   "cell_type": "code",
   "execution_count": null,
   "metadata": {},
   "outputs": [],
   "source": [
    "#the correlation between each columns\n",
    "plt.figure(figsize=(12,10))\n",
    "plt.title(\"correlation\")\n",
    "sns.heatmap(data=df_new.corr(), annot=True, cmap=\"Blues\")\n",
    "plt.show()"
   ]
  },
  {
   "cell_type": "code",
   "execution_count": null,
   "metadata": {},
   "outputs": [],
   "source": [
    "#student performance prediction\n",
    "y=df_new[\"average score\"]\n",
    "print(y.info())\n",
    "\n",
    "X=df_new.drop([\"average score\", \"math score\", \"writing score\", \"reading score\"], axis=1)\n",
    "print(X.info())"
   ]
  },
  {
   "cell_type": "code",
   "execution_count": null,
   "metadata": {},
   "outputs": [],
   "source": [
    "from sklearn.model_selection import train_test_split\n",
    "train_X, val_X, train_y, val_y= train_test_split(X,y,train_size=0.8, test_size=0.2, random_state=42)\n",
    "\n",
    "from sklearn.ensemble import RandomForestRegressor\n",
    "model=RandomForestRegressor(n_estimators=500, max_depth=6)\n",
    "model.fit(train_X, train_y)\n",
    "predict=model.predict(val_X)\n",
    "\n",
    "from sklearn.metrics import mean_absolute_error\n",
    "result=pd.DataFrame({\"actual\":val_y, \"predict\":predict})\n",
    "print(\"The mean_absolute_error of prediction :\", mean_absolute_error(val_y,predict))\n",
    "print(result.sort_index(axis=0))\n",
    "\n",
    "sns.scatterplot(val_y,predict)\n",
    "plt.show()"
   ]
  },
  {
   "cell_type": "code",
   "execution_count": null,
   "metadata": {},
   "outputs": [],
   "source": [
    "#feature importance\n",
    "feature_importance = np.array(model.feature_importances_)\n",
    "feature_name=np.array(train_X.columns)\n",
    "feature_df=pd.DataFrame({\"feature_importance\":feature_importance, \"feature_name\":feature_name})\n",
    "feature_df=feature_df.sort_values(by=[\"feature_importance\"], ascending=False)\n",
    "sns.barplot(x=feature_df[\"feature_importance\"], y=feature_df[\"feature_name\"])\n",
    "plt.show()"
   ]
  },
  {
   "cell_type": "markdown",
   "metadata": {},
   "source": [
    "Observation: From the graph, we know that having balanced diet and attending the test preparation course are the two biggest factors to improve our academic result."
   ]
  },
  {
   "cell_type": "markdown",
   "metadata": {},
   "source": [
    "Further study:\n",
    "1.adding more features, such as study hour per week / pass test score / interest of the subjects / teaching method ...\n",
    "2.increae the sample size to get better prediction"
   ]
  },
  {
   "cell_type": "markdown",
   "metadata": {},
   "source": []
  }
 ],
 "metadata": {
  "kernelspec": {
   "display_name": "Python 3.10.1 64-bit",
   "language": "python",
   "name": "python3"
  },
  "language_info": {
   "codemirror_mode": {
    "name": "ipython",
    "version": 3
   },
   "file_extension": ".py",
   "mimetype": "text/x-python",
   "name": "python",
   "nbconvert_exporter": "python",
   "pygments_lexer": "ipython3",
   "version": "3.10.1"
  },
  "orig_nbformat": 4,
  "vscode": {
   "interpreter": {
    "hash": "4e141bbf987ea1a5453890e30fb15bfaa54b10a58af9f68db0a8bdb2e11ee883"
   }
  }
 },
 "nbformat": 4,
 "nbformat_minor": 2
}
